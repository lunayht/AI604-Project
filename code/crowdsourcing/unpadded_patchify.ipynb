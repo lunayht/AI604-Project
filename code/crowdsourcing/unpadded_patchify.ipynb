{
 "cells": [
  {
   "cell_type": "code",
   "execution_count": 1,
   "metadata": {},
   "outputs": [],
   "source": [
    "\"\"\"you need to have patchify and cv2\"\"\"\n",
    "import os\n",
    "import numpy as np\n",
    "import pandas as pd\n",
    "import cv2\n",
    "from matplotlib import pyplot as plt\n",
    "from patchify import patchify\n",
    "from glob import glob\n",
    "from tqdm import tqdm\n",
    "from sklearn.model_selection import train_test_split"
   ]
  },
  {
   "cell_type": "code",
   "execution_count": null,
   "metadata": {},
   "outputs": [],
   "source": []
  },
  {
   "cell_type": "code",
   "execution_count": 2,
   "metadata": {},
   "outputs": [],
   "source": [
    "def extract_patches(image_list, mask_src, image_src, mask_dst, image_dst, patch_size):\n",
    "    \n",
    "    for im in tqdm(image_list):\n",
    "        \"\"\" read image and mask then extract patches and diregard patches with no label\"\"\"\n",
    "        img = cv2.imread(os.path.join(image_src, im))\n",
    "        msk = cv2.imread(os.path.join(mask_src, im),0)\n",
    "        img_patches = patchify(img, (patch_size, patch_size,3), step=patch_size)\n",
    "        mask_patches = patchify(msk, (patch_size, patch_size), step=patch_size) \n",
    "        img_patches =img_patches.reshape((-1, patch_size, patch_size,3))\n",
    "        mask_patches =mask_patches.reshape((-1, patch_size, patch_size))\n",
    "        #Step=256 for patch_sie patches means no overlap\n",
    "        for i in range(img_patches.shape[0]):\n",
    "            mask_patch = mask_patches[i]\n",
    "            outside = np.all(mask_patch == 0)\n",
    "            if not outside:\n",
    "                img_patch = img_patches[i]\n",
    "                filename = im.split(\".png\")[0] + \"_\" + str(i) + \".png\"\n",
    "#                 mask_file= os.path.join(mask_src, filename)\n",
    "                cv2.imwrite(os.path.join(image_dst, filename), img_patch)\n",
    "                cv2.imwrite(os.path.join(mask_dst, filename), mask_patch)\n",
    "\n"
   ]
  },
  {
   "cell_type": "code",
   "execution_count": 3,
   "metadata": {},
   "outputs": [],
   "source": [
    "df =pd.read_csv('pathdata.csv')\n",
    "train_df, test_df= train_test_split(df, test_size=0.2, random_state=42)"
   ]
  },
  {
   "cell_type": "code",
   "execution_count": 4,
   "metadata": {},
   "outputs": [
    {
     "data": {
      "text/plain": [
       "(151, 4)"
      ]
     },
     "execution_count": 4,
     "metadata": {},
     "output_type": "execute_result"
    }
   ],
   "source": [
    "df.shape"
   ]
  },
  {
   "cell_type": "code",
   "execution_count": 5,
   "metadata": {},
   "outputs": [
    {
     "data": {
      "text/html": [
       "<div>\n",
       "<style scoped>\n",
       "    .dataframe tbody tr th:only-of-type {\n",
       "        vertical-align: middle;\n",
       "    }\n",
       "\n",
       "    .dataframe tbody tr th {\n",
       "        vertical-align: top;\n",
       "    }\n",
       "\n",
       "    .dataframe thead th {\n",
       "        text-align: right;\n",
       "    }\n",
       "</style>\n",
       "<table border=\"1\" class=\"dataframe\">\n",
       "  <thead>\n",
       "    <tr style=\"text-align: right;\">\n",
       "      <th></th>\n",
       "      <th>images_path</th>\n",
       "      <th>height</th>\n",
       "      <th>width</th>\n",
       "      <th>channels</th>\n",
       "    </tr>\n",
       "  </thead>\n",
       "  <tbody>\n",
       "    <tr>\n",
       "      <th>0</th>\n",
       "      <td>TCGA-E9-A5FL-DX1_xmin45595_ymin47283_MPP-0.230...</td>\n",
       "      <td>12622</td>\n",
       "      <td>6607</td>\n",
       "      <td>3</td>\n",
       "    </tr>\n",
       "    <tr>\n",
       "      <th>1</th>\n",
       "      <td>TCGA-OL-A6VO-DX1_xmin88416_ymin188485_MPP-0.23...</td>\n",
       "      <td>4492</td>\n",
       "      <td>4364</td>\n",
       "      <td>3</td>\n",
       "    </tr>\n",
       "    <tr>\n",
       "      <th>2</th>\n",
       "      <td>TCGA-AR-A5QQ-DX1_xmin107130_ymin49863_MPP-0.23...</td>\n",
       "      <td>5814</td>\n",
       "      <td>5724</td>\n",
       "      <td>3</td>\n",
       "    </tr>\n",
       "  </tbody>\n",
       "</table>\n",
       "</div>"
      ],
      "text/plain": [
       "                                         images_path  height  width  channels\n",
       "0  TCGA-E9-A5FL-DX1_xmin45595_ymin47283_MPP-0.230...   12622   6607         3\n",
       "1  TCGA-OL-A6VO-DX1_xmin88416_ymin188485_MPP-0.23...    4492   4364         3\n",
       "2  TCGA-AR-A5QQ-DX1_xmin107130_ymin49863_MPP-0.23...    5814   5724         3"
      ]
     },
     "execution_count": 5,
     "metadata": {},
     "output_type": "execute_result"
    }
   ],
   "source": [
    "df.head(3)"
   ]
  },
  {
   "cell_type": "code",
   "execution_count": null,
   "metadata": {},
   "outputs": [],
   "source": [
    "image_path='./data_dir/images/'\n",
    "mask_path = './data_dir/masks/'\n",
    "image_list=train_df.images_path.values.tolist()\n",
    "mask_src=mask_path\n",
    "image_src = image_path\n",
    "mask_dst= 'Patches/Largetrain/masks/'\n",
    "image_dst ='Patches/Largetrain/images/'\n",
    "patch_size =1024"
   ]
  },
  {
   "cell_type": "code",
   "execution_count": null,
   "metadata": {},
   "outputs": [],
   "source": [
    "extract_patches(image_list, mask_src, image_src, mask_dst, image_dst, patch_size)"
   ]
  },
  {
   "cell_type": "code",
   "execution_count": null,
   "metadata": {},
   "outputs": [],
   "source": [
    "image_list=test_df.images_path.values.tolist()\n",
    "mask_src=mask_path\n",
    "image_src = image_path\n",
    "mask_dst= 'Patches/Largetest/masks/'\n",
    "image_dst ='Patches/Largetest/images/'\n",
    "patch_size =1024"
   ]
  },
  {
   "cell_type": "code",
   "execution_count": null,
   "metadata": {},
   "outputs": [],
   "source": [
    "extract_patches(image_list, mask_src, image_src, mask_dst, image_dst, patch_size)"
   ]
  }
 ],
 "metadata": {
  "kernelspec": {
   "display_name": "Python 3",
   "language": "python",
   "name": "python3"
  },
  "language_info": {
   "codemirror_mode": {
    "name": "ipython",
    "version": 3
   },
   "file_extension": ".py",
   "mimetype": "text/x-python",
   "name": "python",
   "nbconvert_exporter": "python",
   "pygments_lexer": "ipython3",
   "version": "3.8.5"
  }
 },
 "nbformat": 4,
 "nbformat_minor": 4
}
