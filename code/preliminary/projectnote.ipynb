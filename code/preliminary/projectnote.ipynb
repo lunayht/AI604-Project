{
 "cells": [
  {
   "cell_type": "code",
   "execution_count": 31,
   "metadata": {},
   "outputs": [],
   "source": [
    "import os\n",
    "import numpy as np\n",
    "import pandas as pd\n",
    "from glob import glob\n",
    "import cv2\n",
    "from PIL import Image\n",
    "import matplotlib.pyplot as plt\n",
    "from tqdm import tqdm\n",
    "import re\n",
    "import shutil\n",
    "import pandas as pd"
   ]
  },
  {
   "cell_type": "code",
   "execution_count": null,
   "metadata": {},
   "outputs": [],
   "source": []
  },
  {
   "cell_type": "code",
   "execution_count": null,
   "metadata": {},
   "outputs": [],
   "source": []
  },
  {
   "cell_type": "code",
   "execution_count": null,
   "metadata": {},
   "outputs": [],
   "source": []
  },
  {
   "cell_type": "code",
   "execution_count": 43,
   "metadata": {},
   "outputs": [],
   "source": [
    "# Transfer the train images\n",
    "def imagefeature(df):\n",
    "    path_list =df['filepath'].tolist()\n",
    "    height =[]\n",
    "    width =[]\n",
    "    feature =[]\n",
    "    types =[]\n",
    "    classes =[]\n",
    "    dim = (460, 700)\n",
    "    for src in tqdm(path_list):\n",
    "        fname = df[df.filepath==src]['filename'].values[0]\n",
    "        label = df[df.filepath==src]['Classes'].values[0]\n",
    "        lab = df[df.filepath==src]['Types'].values[0]\n",
    "        types.append(lab)\n",
    "        classes.append(label)\n",
    "#         shutil.copy2(src, dst)\n",
    "\n",
    "        image = cv2.imread(src)\n",
    "        image =  cv2.cvtColor(image, cv2.COLOR_BGR2RGB)\n",
    "        \n",
    "  \n",
    "        # resize image\n",
    "        resized = cv2.resize(image, dim, interpolation = cv2.INTER_CUBIC)\n",
    "        feature.append(resized)\n",
    "#         height.append(image.shape[0])\n",
    "#         width.append(image.shape[1])\n",
    "#     df['height']=height\n",
    "#     df['width']=width\n",
    "    feature =np.array(feature)\n",
    "    classes =np.array(classes)\n",
    "    types =np.array(types)\n",
    "    return feature, classes, types"
   ]
  },
  {
   "cell_type": "code",
   "execution_count": 44,
   "metadata": {},
   "outputs": [],
   "source": [
    "mg4path ='40xtrain_df.csv'\n",
    "mg10path ='100xtrain_df.csv'\n",
    "mg20path ='200xtrain_df.csv'\n",
    "mg4path ='400xtrain_df.csv'\n",
    "\n",
    "\n",
    "tmg4path ='40xtest_df.csv'\n",
    "tmg10path ='100xtest_df.csv'\n",
    "tmg20path ='200xtest_df.csv'\n",
    "tmg4path ='400xtest_df.csv'"
   ]
  },
  {
   "cell_type": "code",
   "execution_count": 45,
   "metadata": {},
   "outputs": [],
   "source": [
    "train_df =pd.read_csv('100xtrain_df.csv')\n",
    "test_df =pd.read_csv('100xtest_df.csv')"
   ]
  },
  {
   "cell_type": "code",
   "execution_count": 46,
   "metadata": {},
   "outputs": [
    {
     "data": {
      "text/html": [
       "<div>\n",
       "<style scoped>\n",
       "    .dataframe tbody tr th:only-of-type {\n",
       "        vertical-align: middle;\n",
       "    }\n",
       "\n",
       "    .dataframe tbody tr th {\n",
       "        vertical-align: top;\n",
       "    }\n",
       "\n",
       "    .dataframe thead th {\n",
       "        text-align: right;\n",
       "    }\n",
       "</style>\n",
       "<table border=\"1\" class=\"dataframe\">\n",
       "  <thead>\n",
       "    <tr style=\"text-align: right;\">\n",
       "      <th></th>\n",
       "      <th>filepath</th>\n",
       "      <th>filename</th>\n",
       "      <th>Mag</th>\n",
       "      <th>patient_id</th>\n",
       "      <th>Tumor_type</th>\n",
       "      <th>Tumor_class</th>\n",
       "      <th>Types</th>\n",
       "      <th>Classes</th>\n",
       "    </tr>\n",
       "  </thead>\n",
       "  <tbody>\n",
       "    <tr>\n",
       "      <th>0</th>\n",
       "      <td>./breast/malignant/SOB/papillary_carcinoma/SOB...</td>\n",
       "      <td>SOB_M_PC-14-19440-100-038.png</td>\n",
       "      <td>100X</td>\n",
       "      <td>14-19440</td>\n",
       "      <td>PC</td>\n",
       "      <td>M</td>\n",
       "      <td>5</td>\n",
       "      <td>1</td>\n",
       "    </tr>\n",
       "    <tr>\n",
       "      <th>1</th>\n",
       "      <td>./breast/malignant/SOB/mucinous_carcinoma/SOB_...</td>\n",
       "      <td>SOB_M_MC-14-12773-100-008.png</td>\n",
       "      <td>100X</td>\n",
       "      <td>14-12773</td>\n",
       "      <td>MC</td>\n",
       "      <td>M</td>\n",
       "      <td>4</td>\n",
       "      <td>1</td>\n",
       "    </tr>\n",
       "  </tbody>\n",
       "</table>\n",
       "</div>"
      ],
      "text/plain": [
       "                                            filepath  \\\n",
       "0  ./breast/malignant/SOB/papillary_carcinoma/SOB...   \n",
       "1  ./breast/malignant/SOB/mucinous_carcinoma/SOB_...   \n",
       "\n",
       "                        filename   Mag patient_id Tumor_type Tumor_class  \\\n",
       "0  SOB_M_PC-14-19440-100-038.png  100X   14-19440         PC           M   \n",
       "1  SOB_M_MC-14-12773-100-008.png  100X   14-12773         MC           M   \n",
       "\n",
       "   Types  Classes  \n",
       "0      5        1  \n",
       "1      4        1  "
      ]
     },
     "execution_count": 46,
     "metadata": {},
     "output_type": "execute_result"
    }
   ],
   "source": [
    "train_df.head(2)"
   ]
  },
  {
   "cell_type": "code",
   "execution_count": 59,
   "metadata": {},
   "outputs": [
    {
     "name": "stderr",
     "output_type": "stream",
     "text": [
      "100%|██████████| 1456/1456 [00:12<00:00, 118.94it/s]\n",
      "100%|██████████| 625/625 [00:05<00:00, 121.86it/s]\n"
     ]
    },
    {
     "data": {
      "text/plain": [
       "(1456, 700, 460, 3)"
      ]
     },
     "execution_count": 59,
     "metadata": {},
     "output_type": "execute_result"
    }
   ],
   "source": [
    "\n",
    "trainfeature, trainclasses, traintypes = imagefeature(train_df)\n",
    "testfeature, testclasses, testtypes = imagefeature(test_df)\n",
    "trainfeature.shape"
   ]
  },
  {
   "cell_type": "code",
   "execution_count": 60,
   "metadata": {},
   "outputs": [],
   "source": [
    "trainfeature =np.transpose(trainfeature, (0,2,1,3))"
   ]
  },
  {
   "cell_type": "code",
   "execution_count": 61,
   "metadata": {},
   "outputs": [
    {
     "data": {
      "text/plain": [
       "(625, 460, 700, 3)"
      ]
     },
     "execution_count": 61,
     "metadata": {},
     "output_type": "execute_result"
    }
   ],
   "source": [
    "testfeature =np.transpose(testfeature, (0,2,1,3))\n",
    "testfeature.shape"
   ]
  },
  {
   "cell_type": "code",
   "execution_count": null,
   "metadata": {},
   "outputs": [],
   "source": []
  },
  {
   "cell_type": "code",
   "execution_count": 62,
   "metadata": {},
   "outputs": [],
   "source": [
    "trainclabels =np.asarray(pd.get_dummies(trainclasses))\n",
    "trainslabels = np.asarray(pd.get_dummies(traintypes))\n",
    "trainlabels = np.concatenate((trainclabels, trainslabels), axis=1)"
   ]
  },
  {
   "cell_type": "code",
   "execution_count": 63,
   "metadata": {},
   "outputs": [],
   "source": [
    "testclabels =np.asarray(pd.get_dummies(testclasses))\n",
    "testslabels = np.asarray(pd.get_dummies(testtypes))\n",
    "testlabels = np.concatenate((testclabels, testslabels), axis=1)"
   ]
  },
  {
   "cell_type": "code",
   "execution_count": null,
   "metadata": {},
   "outputs": [],
   "source": []
  },
  {
   "cell_type": "code",
   "execution_count": 66,
   "metadata": {},
   "outputs": [],
   "source": [
    "np.save('traintype100X', traintypes)\n",
    "np.save('testtype100X', testtypes)\n",
    "np.save('trainclasses100X', trainclasses)\n",
    "np.save('testclasses100X', testclasses)\n",
    "\n",
    "np.save('feature100X', trainfeature)\n",
    "np.save('testfeature100X', testfeature)\n",
    "np.save('trainlabels100X', trainlabels)\n",
    "np.save('testlabels100X', testlabels)"
   ]
  },
  {
   "cell_type": "code",
   "execution_count": null,
   "metadata": {},
   "outputs": [],
   "source": []
  },
  {
   "cell_type": "code",
   "execution_count": null,
   "metadata": {},
   "outputs": [],
   "source": []
  },
  {
   "cell_type": "code",
   "execution_count": null,
   "metadata": {},
   "outputs": [],
   "source": []
  },
  {
   "cell_type": "code",
   "execution_count": null,
   "metadata": {},
   "outputs": [],
   "source": []
  },
  {
   "cell_type": "code",
   "execution_count": null,
   "metadata": {},
   "outputs": [],
   "source": []
  },
  {
   "cell_type": "code",
   "execution_count": null,
   "metadata": {},
   "outputs": [],
   "source": []
  },
  {
   "cell_type": "code",
   "execution_count": null,
   "metadata": {},
   "outputs": [],
   "source": []
  },
  {
   "cell_type": "code",
   "execution_count": 6,
   "metadata": {},
   "outputs": [],
   "source": [
    "def create_folders(base_dir='data_40X'):\n",
    "    # Create a new directory\n",
    "    if not os.path.exists(base_dir):\n",
    "        os.mkdir(base_dir)\n",
    "    # now we create 2 folders inside 'root_dir':\n",
    "    # train\n",
    "        # benign\n",
    "        # malignant\n",
    "\n",
    "    # test\n",
    "        # benign\n",
    "        # malingnant\n",
    "\n",
    "    train_dir = os.path.join(base_dir, 'train')\n",
    "    if not os.path.exists(train_dir):\n",
    "        os.mkdir(train_dir)\n",
    "\n",
    "    # test_dir\n",
    "    test_dir = os.path.join(base_dir, 'test')\n",
    "    if not os.path.exists(test_dir):\n",
    "        os.mkdir(test_dir)\n",
    "    # create new folders inside train_dir\n",
    "\n",
    "    benign = os.path.join(train_dir, 'B')\n",
    "    if not os.path.exists(benign):\n",
    "        os.mkdir(benign)\n",
    "    malingnant = os.path.join(train_dir, 'M')\n",
    "    if not os.path.exists(malingnant):\n",
    "        os.mkdir(malingnant)\n",
    "\n",
    "    # create new folders inside test_dir\n",
    "    testbenign = os.path.join(test_dir, 'B')\n",
    "    if not os.path.exists(testbenign):\n",
    "        os.mkdir(testbenign)\n",
    "    testmalingnant = os.path.join(test_dir, 'M')\n",
    "    if not os.path.exists(testmalingnant):\n",
    "        os.mkdir(testmalingnant)\n",
    "    return train_dir, test_dir"
   ]
  },
  {
   "cell_type": "code",
   "execution_count": 7,
   "metadata": {},
   "outputs": [],
   "source": [
    "# Transfer the train images\n",
    "def Filetransfer(df, root_dir):\n",
    "    path_list =df['filepath'].tolist()\n",
    "    for src in tqdm(path_list):\n",
    "        fname = df[df.filepath==src]['filename'].values[0]\n",
    "        label = df[df.filepath==src]['Tumor_class'].values[0]\n",
    "        dst = os.path.join(root_dir, label, fname)\n",
    "        shutil.copy2(src, dst)\n",
    "\n",
    "#         image = cv2.imread(src)\n",
    "#         image = cv2.resize(image, (im_height, im_width))\n",
    "#         # save the image at the destination\n",
    "#         cv2.imwrite(dst, image)\n",
    "   "
   ]
  },
  {
   "cell_type": "code",
   "execution_count": 15,
   "metadata": {},
   "outputs": [],
   "source": [
    "mg4path ='40xtrain_df.csv'\n",
    "mg10path ='100xtrain_df.csv'\n",
    "mg20path ='200xtrain_df.csv'\n",
    "mg40path ='400xtrain_df.csv'\n",
    "\n",
    "\n",
    "tmg4path ='40xtest_df.csv'\n",
    "tmg10path ='100xtest_df.csv'\n",
    "tmg20path ='200xtest_df.csv'\n",
    "tmg40path ='400xtest_df.csv'"
   ]
  },
  {
   "cell_type": "code",
   "execution_count": 16,
   "metadata": {},
   "outputs": [],
   "source": [
    "# train_list =[mg4path,mg10path,mg20path, mg4path]\n"
   ]
  },
  {
   "cell_type": "code",
   "execution_count": 18,
   "metadata": {},
   "outputs": [
    {
     "name": "stderr",
     "output_type": "stream",
     "text": [
      "100%|██████████| 1396/1396 [00:25<00:00, 55.27it/s]\n",
      "100%|██████████| 599/599 [00:10<00:00, 58.87it/s]\n"
     ]
    }
   ],
   "source": [
    "df =pd.read_csv(mg4path)\n",
    "tf = pd.read_csv(tmg4path)\n",
    "train_dir, test_dir =create_folders(base_dir='data_40X')\n",
    "Filetransfer(df, train_dir)\n",
    "Filetransfer(tf, test_dir)"
   ]
  },
  {
   "cell_type": "code",
   "execution_count": null,
   "metadata": {},
   "outputs": [],
   "source": []
  },
  {
   "cell_type": "code",
   "execution_count": null,
   "metadata": {},
   "outputs": [],
   "source": [
    "\n"
   ]
  },
  {
   "cell_type": "code",
   "execution_count": 24,
   "metadata": {},
   "outputs": [],
   "source": [
    "def create_folders2(base_dir='data_40X'):\n",
    "    # Create a new directory\n",
    "    if not os.path.exists(base_dir):\n",
    "        os.mkdir(base_dir)\n",
    "    # now we create 2 folders inside 'root_dir':\n",
    "    # train\n",
    "        # benign\n",
    "        # malignant\n",
    "# array(['PT', 'PC', 'MC', 'DC', 'F', 'A', 'LC', 'TA']\n",
    "    # test\n",
    "        # benign\n",
    "        # malingnant\n",
    "\n",
    "    train_dir = os.path.join(base_dir, 'Mtrain')\n",
    "    if not os.path.exists(train_dir):\n",
    "        os.mkdir(train_dir)\n",
    "\n",
    "    # test_dir\n",
    "    test_dir = os.path.join(base_dir, 'Mtest')\n",
    "    if not os.path.exists(test_dir):\n",
    "        os.mkdir(test_dir)\n",
    "    # create new folders inside train_dir\n",
    "\n",
    "    benign = os.path.join(train_dir, 'A')\n",
    "    if not os.path.exists(benign):\n",
    "        os.mkdir(benign)\n",
    "    benign  = os.path.join(train_dir, 'F')\n",
    "    if not os.path.exists(benign):\n",
    "        os.mkdir(benign)\n",
    "    \n",
    "    malingnant = os.path.join(train_dir, 'DC')\n",
    "    if not os.path.exists(malingnant):\n",
    "        os.mkdir(malingnant)\n",
    "    malingnant = os.path.join(train_dir, 'MC')\n",
    "    if not os.path.exists(malingnant):\n",
    "        os.mkdir(malingnant)\n",
    "      \n",
    "    \n",
    "    malingnant = os.path.join(train_dir, 'PC')\n",
    "    if not os.path.exists(malingnant):\n",
    "        os.mkdir(malingnant)\n",
    "    benign = os.path.join(train_dir, 'PT')\n",
    "    if not os.path.exists(benign):\n",
    "        os.mkdir(benign)\n",
    "    \n",
    "      \n",
    "    malingnant = os.path.join(train_dir, 'LC')\n",
    "    if not os.path.exists(malingnant):\n",
    "        os.mkdir(malingnant)\n",
    "    benign = os.path.join(train_dir, 'TA')\n",
    "    if not os.path.exists(benign):\n",
    "        os.mkdir(benign)\n",
    "    \n",
    "\n",
    "    benign = os.path.join(test_dir, 'A')\n",
    "    if not os.path.exists(benign):\n",
    "        os.mkdir(benign)\n",
    "    benign  = os.path.join(test_dir, 'F')\n",
    "    if not os.path.exists(benign):\n",
    "        os.mkdir(benign)\n",
    "    \n",
    "    malingnant = os.path.join(test_dir, 'DC')\n",
    "    if not os.path.exists(malingnant):\n",
    "        os.mkdir(malingnant)\n",
    "    malingnant = os.path.join(test_dir, 'MC')\n",
    "    if not os.path.exists(malingnant):\n",
    "        os.mkdir(malingnant)\n",
    "      \n",
    "    \n",
    "    malingnant = os.path.join(test_dir, 'PC')\n",
    "    if not os.path.exists(malingnant):\n",
    "        os.mkdir(malingnant)\n",
    "    benign = os.path.join(test_dir, 'PT')\n",
    "    if not os.path.exists(benign):\n",
    "        os.mkdir(benign)\n",
    "    \n",
    "      \n",
    "    malingnant = os.path.join(test_dir, 'LC')\n",
    "    if not os.path.exists(malingnant):\n",
    "        os.mkdir(malingnant)\n",
    "    benign = os.path.join(test_dir, 'TA')\n",
    "    if not os.path.exists(benign):\n",
    "        os.mkdir(benign)\n",
    "    return train_dir, test_dir"
   ]
  },
  {
   "cell_type": "code",
   "execution_count": null,
   "metadata": {},
   "outputs": [],
   "source": []
  },
  {
   "cell_type": "code",
   "execution_count": 25,
   "metadata": {},
   "outputs": [],
   "source": [
    "# Transfer the train images\n",
    "def Filetransfer2(df, root_dir):\n",
    "    path_list =df['filepath'].tolist()\n",
    "    for src in tqdm(path_list):\n",
    "        fname = df[df.filepath==src]['filename'].values[0]\n",
    "        label = df[df.filepath==src]['Tumor_type'].values[0]\n",
    "        dst = os.path.join(root_dir, label, fname)\n",
    "        shutil.copy2(src, dst)\n",
    "\n",
    "#         image = cv2.imread(src)\n",
    "#         image = cv2.resize(image, (im_height, im_width))\n",
    "#         # save the image at the destination\n",
    "#         cv2.imwrite(dst, image)\n",
    "        #shutil.copyfile(src, dst)"
   ]
  },
  {
   "cell_type": "code",
   "execution_count": null,
   "metadata": {},
   "outputs": [],
   "source": []
  },
  {
   "cell_type": "code",
   "execution_count": 26,
   "metadata": {},
   "outputs": [],
   "source": [
    "mg4path ='40xtrain_df.csv'\n",
    "mg10path ='100xtrain_df.csv'\n",
    "mg20path ='200xtrain_df.csv'\n",
    "mg40path ='400xtrain_df.csv'\n",
    "\n",
    "\n",
    "tmg4path ='40xtest_df.csv'\n",
    "tmg10path ='100xtest_df.csv'\n",
    "tmg20path ='200xtest_df.csv'\n",
    "tmg40path ='400xtest_df.csv'"
   ]
  },
  {
   "cell_type": "code",
   "execution_count": 30,
   "metadata": {},
   "outputs": [
    {
     "name": "stderr",
     "output_type": "stream",
     "text": [
      "100%|██████████| 1274/1274 [00:01<00:00, 1128.62it/s]\n",
      "100%|██████████| 546/546 [00:00<00:00, 1190.92it/s]\n"
     ]
    }
   ],
   "source": [
    "df =pd.read_csv(mg40path)\n",
    "tf = pd.read_csv(tmg40path)\n",
    "train_dir, test_dir =create_folders2(base_dir='data_400X')\n",
    "Filetransfer2(df, train_dir)\n",
    "Filetransfer2(tf, test_dir)"
   ]
  },
  {
   "cell_type": "code",
   "execution_count": null,
   "metadata": {},
   "outputs": [],
   "source": []
  },
  {
   "cell_type": "code",
   "execution_count": null,
   "metadata": {},
   "outputs": [],
   "source": []
  },
  {
   "cell_type": "code",
   "execution_count": null,
   "metadata": {},
   "outputs": [],
   "source": []
  },
  {
   "cell_type": "code",
   "execution_count": null,
   "metadata": {},
   "outputs": [],
   "source": []
  },
  {
   "cell_type": "code",
   "execution_count": null,
   "metadata": {},
   "outputs": [],
   "source": []
  },
  {
   "cell_type": "code",
   "execution_count": null,
   "metadata": {},
   "outputs": [],
   "source": []
  },
  {
   "cell_type": "code",
   "execution_count": null,
   "metadata": {},
   "outputs": [],
   "source": []
  }
 ],
 "metadata": {
  "kernelspec": {
   "display_name": "Python 3",
   "language": "python",
   "name": "python3"
  },
  "language_info": {
   "codemirror_mode": {
    "name": "ipython",
    "version": 3
   },
   "file_extension": ".py",
   "mimetype": "text/x-python",
   "name": "python",
   "nbconvert_exporter": "python",
   "pygments_lexer": "ipython3",
   "version": "3.8.5"
  }
 },
 "nbformat": 4,
 "nbformat_minor": 4
}
